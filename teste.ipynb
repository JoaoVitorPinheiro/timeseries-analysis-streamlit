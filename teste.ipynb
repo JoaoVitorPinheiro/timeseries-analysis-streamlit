{
 "cells": [
  {
   "cell_type": "code",
   "execution_count": 3,
   "metadata": {},
   "outputs": [],
   "source": [
    "from analysis import *\n",
    "import dashboard"
   ]
  },
  {
   "cell_type": "code",
   "execution_count": 4,
   "metadata": {},
   "outputs": [],
   "source": [
    "def check_residuals(data: pd.DataFrame,\n",
    "                    time_col: str,\n",
    "                    y_true: str,\n",
    "                    y_predicted: str,\n",
    "                    data_group: str,\n",
    "                    period = 'D',\n",
    "                    diff = 0):\n",
    "    \n",
    "    if period == 'D':\n",
    "        num_lags = 40\n",
    "    elif period == 'M':\n",
    "        num_lags = 7\n",
    "    else:\n",
    "        return None\n",
    "\n",
    "    temp = data.copy()\n",
    "    temp[time_col] = pd.to_datetime(temp[time_col], format = '%Y-%m-%d')\n",
    "    temp.index = pd.DatetimeIndex(temp.index)\n",
    "    \n",
    "    for cg in sorted(data[data_group].unique().tolist()):\n",
    "\n",
    "        temp = temp[temp[data_group] == cg].resample(period).sum()\n",
    "\n",
    "        temp['residual'] = temp[y_true] - temp[y_predicted]\n",
    "        \n",
    "        fig, ax = plt.subplots(3,2,figsize=(24, 16))\n",
    "\n",
    "        fig.suptitle(cg, fontsize=16)\n",
    "\n",
    "        sns.lineplot(data=temp, x=temp.index, y= y_true, ax=ax[0][0])\n",
    "\n",
    "        sns.lineplot(data=temp, x=temp.index, y= y_predicted, ax=ax[0][0])\n",
    "\n",
    "        sm.graphics.tsa.plot_acf(temp['residual'], lags = num_lags, alpha = 0.05, ax=ax[0][1])\n",
    "\n",
    "        sm.graphics.tsa.plot_pacf(temp['residual'], lags =num_lags,alpha = 0.05, ax=ax[1][1])\n",
    "\n",
    "        sns.lineplot(data=temp, x=temp.index, y='residual', ax=ax[1][0])\n",
    "\n",
    "        sns.histplot(data=temp, x='residual',  ax=ax[2][0])\n",
    "\n",
    "        alpha = 0.01\n",
    "        \n",
    "        #stat, p = shapiro(temp['Residuo'])\n",
    "\n",
    "        texto0 = f\"{temp.shape[0]} dias\"\n",
    "        media = fr'média = {round(temp.residual.mean(),3)}'\n",
    "        mediana = fr'mediana = {round(temp.residual.median(),3)}'\n",
    "        desvio = fr'desvio padrão = {round(temp.residual.std(),3)}'\n",
    "        #normal = \"Normal:\" + (\"Sim\" if (p > alpha) else \"Não\")\n",
    "\n",
    "        ax[2][1].text(0.5,0.8, media, horizontalalignment='center',fontsize = 25,\n",
    "                      verticalalignment='center', transform = ax[2][1].transAxes)\n",
    "\n",
    "        ax[2][1].text(0.5,0.6, mediana, horizontalalignment='center',fontsize = 25,\n",
    "                      verticalalignment='center', transform = ax[2][1].transAxes)\n",
    "\n",
    "        ax[2][1].text(0.5,0.4, desvio, horizontalalignment='center',fontsize = 25,\n",
    "                      verticalalignment='center', transform = ax[2][1].transAxes)  \n",
    "\n",
    "        ax[2][1].grid(False)\n",
    "\n",
    "        plt.show()"
   ]
  }
 ],
 "metadata": {
  "interpreter": {
   "hash": "1038baba545cea570b18c98be106d90389ad0a24f09b8ea93468a0957d7b1dbb"
  },
  "kernelspec": {
   "display_name": "Python 3.10.2 64-bit",
   "language": "python",
   "name": "python3"
  },
  "language_info": {
   "codemirror_mode": {
    "name": "ipython",
    "version": 3
   },
   "file_extension": ".py",
   "mimetype": "text/x-python",
   "name": "python",
   "nbconvert_exporter": "python",
   "pygments_lexer": "ipython3",
   "version": "3.10.2"
  },
  "orig_nbformat": 4
 },
 "nbformat": 4,
 "nbformat_minor": 2
}

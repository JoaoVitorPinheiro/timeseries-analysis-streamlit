{
 "cells": [
  {
   "cell_type": "code",
   "execution_count": 3,
   "metadata": {},
   "outputs": [],
   "source": [
    "from analysis import *\n",
    "import dashboard"
   ]
  },
  {
   "cell_type": "code",
   "execution_count": null,
   "metadata": {},
   "outputs": [],
   "source": []
  },
  {
   "cell_type": "code",
   "execution_count": 4,
   "metadata": {},
   "outputs": [],
   "source": [
    "def check_model_results(data, period = 'D', d = 0, suffix=None, graph=False):\n",
    "    if period == 'D':\n",
    "        num_lags = 40\n",
    "    elif period == 'W':\n",
    "        num_lags = 14\n",
    "    elif period == 'M':\n",
    "        num_lags = 7\n",
    "    else:\n",
    "        return 0\n",
    "    FAC = {}\n",
    "    FAP = {}\n",
    "    data.reset_index(inplace=True)\n",
    "    data['Data'] = pd.to_datetime(data['Data'])\n",
    "    data.set_index('Data', inplace=True)\n",
    "    res = []\n",
    "    for cg in data.CityGate.unique():\n",
    "        teste = data[data['CityGate'] == cg].resample(period).sum()\n",
    "        if graph:\n",
    "            fig, ax = plt.subplots(3,2,figsize=(24, 16))\n",
    "            fig.suptitle(cg, fontsize=16)\n",
    "            lista_fac = sm.tsa.acf(teste.Difference,\n",
    "                               nlags = num_lags,\n",
    "                               fft = False)\n",
    "            FAC.update({cg: lista_fac})\n",
    "            lista_fap = sm.tsa.pacf(teste.Difference,\n",
    "                                   nlags = num_lags)\n",
    "            FAP.update({cg: lista_fap})\n",
    "            sns.lineplot(data=teste, x=teste.index, y= \"Volume_dia\", ax=ax[0][0])\n",
    "            sns.lineplot(data=teste, x=teste.index, y = \"Volume_Previsto_Dia\", ax=ax[0][0])\n",
    "            sm.graphics.tsa.plot_acf(teste['Difference'], lags = num_lags, alpha = 0.05, ax=ax[0][1])\n",
    "            sm.graphics.tsa.plot_pacf(teste['Difference'], lags =num_lags,alpha = 0.05, ax=ax[1][1])\n",
    "            sns.lineplot(data=teste, x=teste.index, y=\"Difference\", ax=ax[1][0])\n",
    "            sns.histplot(data=teste, x=\"Difference\",  ax=ax[2][0])\n",
    "            alpha = 0.01\n",
    "            mape = fr'mape = {round(teste.Absolute_Percentage_Error.mean(),3)}%'\n",
    "            acima5 = fr\"dias acima de 5% = {teste['Acima5%'].sum()} ({round(teste['Acima5%'].mean() * 100, 3)}%)\"\n",
    "            min_max = fr\"Min: {round(teste.Absolute_Percentage_Error.min(),3)}% |  Max: {round(teste.Absolute_Percentage_Error.max(),3)}%\"\n",
    "            ax[2][1].text(0.5,0.8, mape, horizontalalignment='center',fontsize = 25,\n",
    "                          verticalalignment='center', transform = ax[2][1].transAxes)\n",
    "            ax[2][1].text(0.5,0.6, acima5, horizontalalignment='center',fontsize = 25,\n",
    "                          verticalalignment='center', transform = ax[2][1].transAxes)    \n",
    "            ax[2][1].text(0.5,0.4, min_max, horizontalalignment='center',fontsize = 25,\n",
    "                          verticalalignment='center', transform = ax[2][1].transAxes)  \n",
    "            ax[2][1].grid(False)\n",
    "            plt.show()\n",
    "        mape = round(teste.Absolute_Percentage_Error.mean(),3)\n",
    "        acima5c = teste['Acima5%'].sum()\n",
    "        acima5p = round(teste['Acima5%'].mean() * 100, 3)\n",
    "        minimo = round(teste.Absolute_Percentage_Error.min(),3)\n",
    "        maximo = round(teste.Absolute_Percentage_Error.max(),3)\n",
    "        res.append([cg, mape, acima5c, acima5p, minimo, maximo])\n",
    "    cols = ['CityGate', 'MAPE', 'Acima5_dias', 'Acima5_percent', 'Minimo', 'Maximo']\n",
    "    if suffix is not None:\n",
    "        cols = [f\"{c}_{suffix}\" if c != 'CityGate' else c for c in cols]\n",
    "    res = pd.DataFrame(res, columns=cols)\n",
    "    return res\n"
   ]
  }
 ],
 "metadata": {
  "interpreter": {
   "hash": "1038baba545cea570b18c98be106d90389ad0a24f09b8ea93468a0957d7b1dbb"
  },
  "kernelspec": {
   "display_name": "Python 3.10.2 64-bit",
   "language": "python",
   "name": "python3"
  },
  "language_info": {
   "codemirror_mode": {
    "name": "ipython",
    "version": 3
   },
   "file_extension": ".py",
   "mimetype": "text/x-python",
   "name": "python",
   "nbconvert_exporter": "python",
   "pygments_lexer": "ipython3",
   "version": "3.10.2"
  },
  "orig_nbformat": 4
 },
 "nbformat": 4,
 "nbformat_minor": 2
}
